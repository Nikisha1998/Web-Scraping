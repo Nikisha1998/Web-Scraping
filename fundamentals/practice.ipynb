{
 "cells": [
  {
   "cell_type": "code",
   "execution_count": 1,
   "id": "3fc947bc",
   "metadata": {},
   "outputs": [
    {
     "name": "stdout",
     "output_type": "stream",
     "text": [
      "Status Code: 200\n",
      "Scraping Completed! Quotes saved to quotes.csv\n"
     ]
    }
   ],
   "source": [
    "import requests\n",
    "from bs4 import BeautifulSoup\n",
    "import pandas as pd\n",
    "\n",
    "# Step 1: Target URL\n",
    "url = \"https://quotes.toscrape.com/\"\n",
    "\n",
    "# Step 2: Send GET request to fetch HTML\n",
    "response = requests.get(url)\n",
    "print(\"Status Code:\", response.status_code)  # 200 means success\n",
    "\n",
    "# Step 3: Parse HTML with BeautifulSoup\n",
    "soup = BeautifulSoup(response.text, \"lxml\")\n",
    "\n",
    "# Step 4: Extract all quotes and authors\n",
    "quotes_data = []\n",
    "quotes = soup.find_all(\"div\", class_=\"quote\")\n",
    "\n",
    "for quote in quotes:\n",
    "    text = quote.find(\"span\", class_=\"text\").get_text(strip=True)\n",
    "    author = quote.find(\"small\", class_=\"author\").get_text(strip=True)\n",
    "    quotes_data.append({\"Quote\": text, \"Author\": author})\n",
    "\n",
    "# Step 5: Save to CSV\n",
    "df = pd.DataFrame(quotes_data)\n",
    "df.to_csv(\"quotes.csv\", index=False, encoding=\"utf-8\")\n",
    "\n",
    "print(\"Scraping Completed! Quotes saved to quotes.csv\")\n"
   ]
  },
  {
   "cell_type": "code",
   "execution_count": 2,
   "id": "60f075d4",
   "metadata": {},
   "outputs": [
    {
     "data": {
      "text/html": [
       "<div>\n",
       "<style scoped>\n",
       "    .dataframe tbody tr th:only-of-type {\n",
       "        vertical-align: middle;\n",
       "    }\n",
       "\n",
       "    .dataframe tbody tr th {\n",
       "        vertical-align: top;\n",
       "    }\n",
       "\n",
       "    .dataframe thead th {\n",
       "        text-align: right;\n",
       "    }\n",
       "</style>\n",
       "<table border=\"1\" class=\"dataframe\">\n",
       "  <thead>\n",
       "    <tr style=\"text-align: right;\">\n",
       "      <th></th>\n",
       "      <th>Quote</th>\n",
       "      <th>Author</th>\n",
       "    </tr>\n",
       "  </thead>\n",
       "  <tbody>\n",
       "    <tr>\n",
       "      <th>0</th>\n",
       "      <td>“The world as we have created it is a process ...</td>\n",
       "      <td>Albert Einstein</td>\n",
       "    </tr>\n",
       "    <tr>\n",
       "      <th>1</th>\n",
       "      <td>“It is our choices, Harry, that show what we t...</td>\n",
       "      <td>J.K. Rowling</td>\n",
       "    </tr>\n",
       "    <tr>\n",
       "      <th>2</th>\n",
       "      <td>“There are only two ways to live your life. On...</td>\n",
       "      <td>Albert Einstein</td>\n",
       "    </tr>\n",
       "    <tr>\n",
       "      <th>3</th>\n",
       "      <td>“The person, be it gentleman or lady, who has ...</td>\n",
       "      <td>Jane Austen</td>\n",
       "    </tr>\n",
       "    <tr>\n",
       "      <th>4</th>\n",
       "      <td>“Imperfection is beauty, madness is genius and...</td>\n",
       "      <td>Marilyn Monroe</td>\n",
       "    </tr>\n",
       "    <tr>\n",
       "      <th>5</th>\n",
       "      <td>“Try not to become a man of success. Rather be...</td>\n",
       "      <td>Albert Einstein</td>\n",
       "    </tr>\n",
       "    <tr>\n",
       "      <th>6</th>\n",
       "      <td>“It is better to be hated for what you are tha...</td>\n",
       "      <td>André Gide</td>\n",
       "    </tr>\n",
       "    <tr>\n",
       "      <th>7</th>\n",
       "      <td>“I have not failed. I've just found 10,000 way...</td>\n",
       "      <td>Thomas A. Edison</td>\n",
       "    </tr>\n",
       "    <tr>\n",
       "      <th>8</th>\n",
       "      <td>“A woman is like a tea bag; you never know how...</td>\n",
       "      <td>Eleanor Roosevelt</td>\n",
       "    </tr>\n",
       "    <tr>\n",
       "      <th>9</th>\n",
       "      <td>“A day without sunshine is like, you know, nig...</td>\n",
       "      <td>Steve Martin</td>\n",
       "    </tr>\n",
       "  </tbody>\n",
       "</table>\n",
       "</div>"
      ],
      "text/plain": [
       "                                               Quote             Author\n",
       "0  “The world as we have created it is a process ...    Albert Einstein\n",
       "1  “It is our choices, Harry, that show what we t...       J.K. Rowling\n",
       "2  “There are only two ways to live your life. On...    Albert Einstein\n",
       "3  “The person, be it gentleman or lady, who has ...        Jane Austen\n",
       "4  “Imperfection is beauty, madness is genius and...     Marilyn Monroe\n",
       "5  “Try not to become a man of success. Rather be...    Albert Einstein\n",
       "6  “It is better to be hated for what you are tha...         André Gide\n",
       "7  “I have not failed. I've just found 10,000 way...   Thomas A. Edison\n",
       "8  “A woman is like a tea bag; you never know how...  Eleanor Roosevelt\n",
       "9  “A day without sunshine is like, you know, nig...       Steve Martin"
      ]
     },
     "execution_count": 2,
     "metadata": {},
     "output_type": "execute_result"
    }
   ],
   "source": [
    "df"
   ]
  },
  {
   "cell_type": "code",
   "execution_count": 3,
   "id": "b5d12de8",
   "metadata": {},
   "outputs": [
    {
     "data": {
      "text/plain": [
       "Index(['Quote', 'Author'], dtype='object')"
      ]
     },
     "execution_count": 3,
     "metadata": {},
     "output_type": "execute_result"
    }
   ],
   "source": [
    "df.columns"
   ]
  },
  {
   "cell_type": "code",
   "execution_count": 4,
   "id": "df258e86",
   "metadata": {},
   "outputs": [
    {
     "data": {
      "text/html": [
       "<div>\n",
       "<style scoped>\n",
       "    .dataframe tbody tr th:only-of-type {\n",
       "        vertical-align: middle;\n",
       "    }\n",
       "\n",
       "    .dataframe tbody tr th {\n",
       "        vertical-align: top;\n",
       "    }\n",
       "\n",
       "    .dataframe thead th {\n",
       "        text-align: right;\n",
       "    }\n",
       "</style>\n",
       "<table border=\"1\" class=\"dataframe\">\n",
       "  <thead>\n",
       "    <tr style=\"text-align: right;\">\n",
       "      <th></th>\n",
       "      <th>Quote</th>\n",
       "      <th>Author</th>\n",
       "    </tr>\n",
       "  </thead>\n",
       "  <tbody>\n",
       "    <tr>\n",
       "      <th>0</th>\n",
       "      <td>“The world as we have created it is a process ...</td>\n",
       "      <td>Albert Einstein</td>\n",
       "    </tr>\n",
       "    <tr>\n",
       "      <th>1</th>\n",
       "      <td>“It is our choices, Harry, that show what we t...</td>\n",
       "      <td>J.K. Rowling</td>\n",
       "    </tr>\n",
       "    <tr>\n",
       "      <th>2</th>\n",
       "      <td>“There are only two ways to live your life. On...</td>\n",
       "      <td>Albert Einstein</td>\n",
       "    </tr>\n",
       "    <tr>\n",
       "      <th>3</th>\n",
       "      <td>“The person, be it gentleman or lady, who has ...</td>\n",
       "      <td>Jane Austen</td>\n",
       "    </tr>\n",
       "    <tr>\n",
       "      <th>4</th>\n",
       "      <td>“Imperfection is beauty, madness is genius and...</td>\n",
       "      <td>Marilyn Monroe</td>\n",
       "    </tr>\n",
       "  </tbody>\n",
       "</table>\n",
       "</div>"
      ],
      "text/plain": [
       "                                               Quote           Author\n",
       "0  “The world as we have created it is a process ...  Albert Einstein\n",
       "1  “It is our choices, Harry, that show what we t...     J.K. Rowling\n",
       "2  “There are only two ways to live your life. On...  Albert Einstein\n",
       "3  “The person, be it gentleman or lady, who has ...      Jane Austen\n",
       "4  “Imperfection is beauty, madness is genius and...   Marilyn Monroe"
      ]
     },
     "execution_count": 4,
     "metadata": {},
     "output_type": "execute_result"
    }
   ],
   "source": [
    "df.head()"
   ]
  },
  {
   "cell_type": "code",
   "execution_count": null,
   "id": "81e538a1",
   "metadata": {},
   "outputs": [],
   "source": []
  }
 ],
 "metadata": {
  "kernelspec": {
   "display_name": "venv",
   "language": "python",
   "name": "python3"
  },
  "language_info": {
   "codemirror_mode": {
    "name": "ipython",
    "version": 3
   },
   "file_extension": ".py",
   "mimetype": "text/x-python",
   "name": "python",
   "nbconvert_exporter": "python",
   "pygments_lexer": "ipython3",
   "version": "3.10.0"
  }
 },
 "nbformat": 4,
 "nbformat_minor": 5
}
